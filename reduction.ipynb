{
 "cells": [
  {
   "cell_type": "markdown",
   "metadata": {},
   "source": [
    "## Reducer: Adam Kline"
   ]
  },
  {
   "cell_type": "markdown",
   "metadata": {},
   "source": [
    "## Reviewer: (Put your name here)"
   ]
  },
  {
   "cell_type": "markdown",
   "metadata": {},
   "source": [
    "# jupyter notebook crash course"
   ]
  },
  {
   "cell_type": "markdown",
   "metadata": {},
   "source": [
    "Click on a code cell (has grey background) then press Shift-Enter (at the same time) to run a code cell. That will add the controls (buttons, etc) you use to do the reduction one-by-one; then use them for reduction."
   ]
  },
  {
   "cell_type": "markdown",
   "metadata": {},
   "source": [
    "# reducer crash course\n",
    "\n",
    "### Rule 0: Run the code cells in order\n",
    "\n",
    "The world won't end if you break this rule, but you are more likely to end up with nonsensical results or errors. Incidentally, welcome to python indexing, which starts numbering at zero.\n",
    "\n",
    "### Rule 1: Do not run this notebook in the directory containing your unreduced data\n",
    "\n",
    "`reducer` will not overwrite anything but the idea is that you will keep a copy of this notebook with your reduced data.\n",
    "\n",
    "### Rule 2: Keep the cells you need, delete the ones you don't\n",
    "\n",
    "IPython notebooks are essentially customizable apps. If you don't shoot dark frames, for example, delete the stuff related to darks.\n",
    "\n",
    "### Rule 3: If you find bugs, please report them\n",
    "\n",
    "You can report bugs, make feature requests or (best of all) submit pull requests from [reducer's home on github](https:github.com/mwcraig/reducer)\n",
    "\n",
    "### Bonus Pro Tip: Feel free to ignore the code in the code cells\n",
    "\n",
    "Code is there so that people who know python can see what is going on, but if you don't know python you should still be able to use the notebook. Just remember to Shift-Enter on each code cell to run it, then fill in the form(s) that appear in the notebook.\n"
   ]
  },
  {
   "cell_type": "code",
   "execution_count": 1,
   "metadata": {},
   "outputs": [
    {
     "name": "stdout",
     "output_type": "stream",
     "text": [
      "0.4.1\n"
     ]
    }
   ],
   "source": [
    "from __future__ import division, print_function\n",
    "\n",
    "import reducer.gui\n",
    "import reducer.astro_gui as astro_gui\n",
    "from reducer.image_browser import ImageBrowser\n",
    "\n",
    "from ccdproc import ImageFileCollection\n",
    "\n",
    "from reducer import __version__\n",
    "print(__version__)"
   ]
  },
  {
   "cell_type": "markdown",
   "metadata": {},
   "source": [
    "# Enter name of directory that contains your data in the cell below, or...\n",
    "\n",
    "### ...leave it unchanged to try out reducer with low-resolution dataset\n",
    "\n",
    "That low-resolution dataset will expand to about 300MB when uncompressed\n"
   ]
  },
  {
   "cell_type": "code",
   "execution_count": 2,
   "metadata": {},
   "outputs": [],
   "source": [
    "# To use the sample data set:\n",
    "#data_dir = reducer.notebook_dir.get_data_path()\n",
    "\n",
    "# Or, uncomment line below and modify as needed\n",
    "data_dir = '../2018-07-23'\n",
    "\n",
    "destination_dir = '.'"
   ]
  },
  {
   "cell_type": "markdown",
   "metadata": {},
   "source": [
    "# Type any comments about this dataset here\n",
    "\n",
    "Double-click on the cell to start editing it."
   ]
  },
  {
   "cell_type": "markdown",
   "metadata": {},
   "source": [
    "# Load your data set"
   ]
  },
  {
   "cell_type": "code",
   "execution_count": 3,
   "metadata": {},
   "outputs": [],
   "source": [
    "images = ImageFileCollection(location=data_dir, keywords='*')"
   ]
  },
  {
   "cell_type": "markdown",
   "metadata": {},
   "source": [
    "# Image Summary\n",
    "\n",
    "## Includes browser and image/metadata viewer\n",
    "\n",
    "This is not, strictly speaking, part of reduction, but is a handy way to take a quick look at your files."
   ]
  },
  {
   "cell_type": "code",
   "execution_count": 4,
   "metadata": {},
   "outputs": [
    {
     "data": {
      "application/vnd.jupyter.widget-view+json": {
       "model_id": "02581173569349b68c58ca9ff62529ed",
       "version_major": 2,
       "version_minor": 0
      },
      "text/plain": [
       "ImageBrowser(children=(Accordion(children=(Accordion(children=(Box(children=(Select(layout=Layout(width='100%'…"
      ]
     },
     "metadata": {},
     "output_type": "display_data"
    }
   ],
   "source": [
    "fits_browser = ImageBrowser(images, keys=['imagetyp', 'exposure'])\n",
    "fits_browser.display()"
   ]
  },
  {
   "cell_type": "markdown",
   "metadata": {},
   "source": [
    "### You can reconfigure the image browser if you want (or not)\n",
    "\n",
    "By passing different keys into the tree constructor you can generate a navigable tree based on any keys you want."
   ]
  },
  {
   "cell_type": "code",
   "execution_count": 5,
   "metadata": {},
   "outputs": [
    {
     "data": {
      "application/vnd.jupyter.widget-view+json": {
       "model_id": "adf7c79d0e0c4b64b57234ebd59d6182",
       "version_major": 2,
       "version_minor": 0
      },
      "text/plain": [
       "ImageBrowser(children=(Accordion(children=(Accordion(children=(Accordion(children=(Box(children=(Select(layout…"
      ]
     },
     "metadata": {},
     "output_type": "display_data"
    }
   ],
   "source": [
    "im_a_tree_too = ImageBrowser(images, keys=['filter', 'imagetyp', 'exposure'])\n",
    "im_a_tree_too.display()"
   ]
  },
  {
   "cell_type": "markdown",
   "metadata": {},
   "source": [
    "# Make a master bias image"
   ]
  },
  {
   "cell_type": "markdown",
   "metadata": {},
   "source": [
    "## Reduce the bias images"
   ]
  },
  {
   "cell_type": "code",
   "execution_count": 6,
   "metadata": {},
   "outputs": [
    {
     "data": {
      "application/vnd.jupyter.widget-view+json": {
       "model_id": "8d93f809bb084068ab43deff3fa6ea51",
       "version_major": 2,
       "version_minor": 0
      },
      "text/plain": [
       "Reduction(children=(Box(children=(ToggleButton(value=False, description='Reduce bias frames'),)), VBox(childre…"
      ]
     },
     "metadata": {},
     "output_type": "display_data"
    },
    {
     "name": "stdout",
     "output_type": "stream",
     "text": [
      "Reduce bias frames Yes\n",
      "\tCopy without any other action? No\n",
      "\tSubtract overscan? No\n",
      "\tTrim (specify region to keep)? Yes\n",
      "\t\tRegion is all of 0  and along the other axis from   0  up to (but not including):  4096\n"
     ]
    }
   ],
   "source": [
    "bias_reduction = astro_gui.Reduction(description='Reduce bias frames',\n",
    "                                     toggle_type='button',\n",
    "                                     allow_bias=False,\n",
    "                                     allow_dark=False,\n",
    "                                     allow_flat=False,\n",
    "                                     input_image_collection=images,\n",
    "                                     apply_to={'imagetyp': 'bias'},\n",
    "                                     destination=destination_dir)\n",
    "bias_reduction.display()"
   ]
  },
  {
   "cell_type": "markdown",
   "metadata": {},
   "source": [
    "## Combine bias images to make master bias"
   ]
  },
  {
   "cell_type": "code",
   "execution_count": 7,
   "metadata": {},
   "outputs": [
    {
     "data": {
      "application/vnd.jupyter.widget-view+json": {
       "model_id": "b2b4d9b3d6e1453182f0a16ed2ee661f",
       "version_major": 2,
       "version_minor": 0
      },
      "text/plain": [
       "Combiner(children=(Box(children=(ToggleButton(value=False, description='Master Bias Settings'),)), VBox(childr…"
      ]
     },
     "metadata": {},
     "output_type": "display_data"
    },
    {
     "name": "stdout",
     "output_type": "stream",
     "text": [
      "Master Bias Settings Yes\n",
      "\tClip before combining? Yes\n",
      "\t\tClip by min/max? No\n",
      "\t\tSigma clip? Yes\n",
      "\t\t\tLow threshold: 5.0\n",
      "\t\t\tHigh threshold: 5.0\n",
      "\tCombine images? Yes\n",
      "\t\tCombination method:: Average\n",
      "\t\tScale before combining? No\n",
      "\tGroup by: No\n"
     ]
    }
   ],
   "source": [
    "reduced_collection = ImageFileCollection(location=destination_dir, keywords='*')\n",
    "bias_settings = astro_gui.Combiner(description=\"Master Bias Settings\",\n",
    "                                   toggle_type='button',\n",
    "                                   file_name_base='master_bias',\n",
    "                                   image_source=reduced_collection,\n",
    "                                   apply_to={'imagetyp': 'bias'},\n",
    "                                   destination=destination_dir)\n",
    "bias_settings.display()"
   ]
  },
  {
   "cell_type": "markdown",
   "metadata": {},
   "source": [
    "# Make a master dark"
   ]
  },
  {
   "cell_type": "markdown",
   "metadata": {},
   "source": [
    "## Reduce dark images"
   ]
  },
  {
   "cell_type": "code",
   "execution_count": 8,
   "metadata": {},
   "outputs": [
    {
     "data": {
      "application/vnd.jupyter.widget-view+json": {
       "model_id": "1b57ff16b56c4e9ca209580c24ffa7e6",
       "version_major": 2,
       "version_minor": 0
      },
      "text/plain": [
       "Reduction(children=(Box(children=(ToggleButton(value=False, description='Reduce dark frames'),)), VBox(childre…"
      ]
     },
     "metadata": {},
     "output_type": "display_data"
    },
    {
     "name": "stdout",
     "output_type": "stream",
     "text": [
      "Reduce dark frames Yes\n",
      "\tCopy without any other action? No\n",
      "\tSubtract overscan? No\n",
      "\tTrim (specify region to keep)? Yes\n",
      "\t\tRegion is all of 0  and along the other axis from   0  up to (but not including):  4096\n",
      "\tSubtract bias? Yes\n",
      "\t\tSource: notebook\n"
     ]
    }
   ],
   "source": [
    "reduced_collection = ImageFileCollection(location=destination_dir, keywords='*')\n",
    "dark_reduction = astro_gui.Reduction(description='Reduce dark frames',\n",
    "                                     toggle_type='button',\n",
    "                                     allow_bias=True,\n",
    "                                     master_source=reduced_collection,\n",
    "                                     allow_dark=False,\n",
    "                                     allow_flat=False,\n",
    "                                     input_image_collection=images,\n",
    "                                     destination=destination_dir,\n",
    "                                     apply_to={'imagetyp': 'dark'})\n",
    "\n",
    "dark_reduction.display()"
   ]
  },
  {
   "cell_type": "markdown",
   "metadata": {},
   "source": [
    "## Combine reduced darks to make master(s)\n",
    "\n",
    "Note the ``Group by`` option in the controls that appear after you execute the cell below. `reducer` will make a master for each value of the FITS keyword listed in ``Group by``. By default this keyword is named ``exposure`` for darks, so if you have darks with exposure times of 10 sec, 15 sec and 120 sec you will get three master darks, one for each exposure time."
   ]
  },
  {
   "cell_type": "code",
   "execution_count": 9,
   "metadata": {},
   "outputs": [
    {
     "data": {
      "application/vnd.jupyter.widget-view+json": {
       "model_id": "92b5714d53c9447b88496e10cc90ab37",
       "version_major": 2,
       "version_minor": 0
      },
      "text/plain": [
       "Combiner(children=(Box(children=(ToggleButton(value=False, description='Make Master Dark'),)), VBox(children=(…"
      ]
     },
     "metadata": {},
     "output_type": "display_data"
    },
    {
     "name": "stdout",
     "output_type": "stream",
     "text": [
      "Make Master Dark Yes\n",
      "\tClip before combining? Yes\n",
      "\t\tClip by min/max? No\n",
      "\t\tSigma clip? Yes\n",
      "\t\t\tLow threshold: 5.0\n",
      "\t\t\tHigh threshold: 5.0\n",
      "\tCombine images? Yes\n",
      "\t\tCombination method:: Average\n",
      "\t\tScale before combining? Yes\n",
      "\t\t\tWhich should scale to same value?: mean\n",
      "\tGroup by: Yes\n",
      "\t\tKeywords (comma-separated): exposure\n"
     ]
    }
   ],
   "source": [
    "reduced_collection = ImageFileCollection(location=destination_dir, keywords='*')\n",
    "\n",
    "dark = astro_gui.Combiner(description=\"Make Master Dark\",\n",
    "                          toggle_type='button',\n",
    "                          file_name_base='master_dark',\n",
    "                          group_by='exposure',\n",
    "                          image_source=reduced_collection,\n",
    "                          apply_to={'imagetyp': 'dark'},\n",
    "                          destination=destination_dir)\n",
    "dark.display()"
   ]
  },
  {
   "cell_type": "markdown",
   "metadata": {},
   "source": [
    "# Make master flats"
   ]
  },
  {
   "cell_type": "markdown",
   "metadata": {},
   "source": [
    "## Reduce flat images"
   ]
  },
  {
   "cell_type": "code",
   "execution_count": 10,
   "metadata": {},
   "outputs": [
    {
     "data": {
      "application/vnd.jupyter.widget-view+json": {
       "model_id": "9dfdc6d331894aa5b34139c09c4bce48",
       "version_major": 2,
       "version_minor": 0
      },
      "text/plain": [
       "Reduction(children=(Box(children=(ToggleButton(value=False, description='Reduce flat frames'),)), VBox(childre…"
      ]
     },
     "metadata": {},
     "output_type": "display_data"
    },
    {
     "name": "stdout",
     "output_type": "stream",
     "text": [
      "Reduce flat frames Yes\n",
      "\tCopy without any other action? No\n",
      "\tSubtract overscan? No\n",
      "\tTrim (specify region to keep)? Yes\n",
      "\t\tRegion is all of 0  and along the other axis from   0  up to (but not including):  4096\n",
      "\tSubtract bias? Yes\n",
      "\t\tSource: notebook\n",
      "\tSubtract Dark? Yes\n",
      "\t\tSource: notebook\n",
      "\t\tScale dark by exposure time (if needed): True\n"
     ]
    }
   ],
   "source": [
    "reduced_collection = ImageFileCollection(location=destination_dir, keywords='*')\n",
    "flat_reduction = astro_gui.Reduction(description='Reduce flat frames',\n",
    "                                     toggle_type='button',\n",
    "                                     allow_bias=True,\n",
    "                                     master_source=reduced_collection,\n",
    "                                     allow_dark=True,\n",
    "                                     allow_flat=False,\n",
    "                                     input_image_collection=images,\n",
    "                                     destination=destination_dir,\n",
    "                                     apply_to={'imagetyp': 'flat'})\n",
    "\n",
    "flat_reduction.display()"
   ]
  },
  {
   "cell_type": "markdown",
   "metadata": {},
   "source": [
    "## Build masters by combining\n",
    "\n",
    "Again, note the presence of ``Group by``. If you typically use twilight flats you will almost certainly want to group by filter, not by filter and exposure."
   ]
  },
  {
   "cell_type": "code",
   "execution_count": 11,
   "metadata": {},
   "outputs": [
    {
     "data": {
      "application/vnd.jupyter.widget-view+json": {
       "model_id": "546794a022a04448ba1f02ae1479d364",
       "version_major": 2,
       "version_minor": 0
      },
      "text/plain": [
       "Combiner(children=(Box(children=(ToggleButton(value=False, description='Make Master Flat'),)), VBox(children=(…"
      ]
     },
     "metadata": {},
     "output_type": "display_data"
    },
    {
     "name": "stdout",
     "output_type": "stream",
     "text": [
      "Make Master Flat Yes\n",
      "\tClip before combining? Yes\n",
      "\t\tClip by min/max? No\n",
      "\t\tSigma clip? Yes\n",
      "\t\t\tLow threshold: 5.0\n",
      "\t\t\tHigh threshold: 5.0\n",
      "\tCombine images? Yes\n",
      "\t\tCombination method:: Average\n",
      "\t\tScale before combining? Yes\n",
      "\t\t\tWhich should scale to same value?: mean\n",
      "\tGroup by: Yes\n",
      "\t\tKeywords (comma-separated): filter\n"
     ]
    }
   ],
   "source": [
    "reduced_collection = ImageFileCollection(location=destination_dir, keywords='*')\n",
    "\n",
    "flat = astro_gui.Combiner(description=\"Make Master Flat\",\n",
    "                          toggle_type='button',\n",
    "                          file_name_base='master_flat',\n",
    "                          group_by='exposure, filter',\n",
    "                          image_source=reduced_collection,\n",
    "                          apply_to={'imagetyp': 'flat'},\n",
    "                          destination=destination_dir)\n",
    "flat.display()"
   ]
  },
  {
   "cell_type": "markdown",
   "metadata": {},
   "source": [
    "# Reduce the science images\n",
    "\n",
    "There is some autmatic matching going on here:\n",
    "\n",
    "+ If darks are subtracted a dark of the same edxposure time will be used, if available. If not, and dark scaling is enabled, the dark with the closest exposure time will be scaled to match the science image.\n",
    "+ If the dark you want to scale appears not to be bias-subtracted an error will be raised.\n",
    "+ Flats are matched by filter."
   ]
  },
  {
   "cell_type": "code",
   "execution_count": 7,
   "metadata": {},
   "outputs": [
    {
     "data": {
      "application/vnd.jupyter.widget-view+json": {
       "model_id": "de7c3374178742baa834988fb955d81b",
       "version_major": 2,
       "version_minor": 0
      },
      "text/plain": [
       "Reduction(children=(Box(children=(ToggleButton(value=False, description='Reduce light frames'),)), VBox(childr…"
      ]
     },
     "metadata": {},
     "output_type": "display_data"
    },
    {
     "name": "stdout",
     "output_type": "stream",
     "text": [
      "Reduce light frames Yes\n",
      "\tCopy without any other action? No\n",
      "\tSubtract overscan? No\n",
      "\tTrim (specify region to keep)? Yes\n",
      "\t\tRegion is all of 0  and along the other axis from   0  up to (but not including):  4096\n",
      "\tSubtract bias? Yes\n",
      "\t\tSource: notebook\n",
      "\tSubtract Dark? Yes\n",
      "\t\tSource: notebook\n",
      "\t\tScale dark by exposure time (if needed): True\n",
      "\tFlat correct? Yes\n",
      "\t\tSource: notebook\n",
      "\tClean cosmic rays? No\n"
     ]
    }
   ],
   "source": [
    "reduced_collection = ImageFileCollection(location=destination_dir, keywords='*')\n",
    "light_reduction = astro_gui.Reduction(description='Reduce light frames',\n",
    "                                      toggle_type='button',\n",
    "                                      allow_cosmic_ray=True,\n",
    "                                      master_source=reduced_collection,\n",
    "                                      input_image_collection=images,\n",
    "                                      destination=destination_dir,\n",
    "                                      apply_to={'imagetyp': 'light'})\n",
    "\n",
    "light_reduction.display()"
   ]
  },
  {
   "cell_type": "markdown",
   "metadata": {},
   "source": [
    "## Wonder what the reduced images look like? Make another image browser..."
   ]
  },
  {
   "cell_type": "code",
   "execution_count": 8,
   "metadata": {},
   "outputs": [],
   "source": [
    "reduced_collection = ImageFileCollection(location=destination_dir, keywords='*')"
   ]
  },
  {
   "cell_type": "code",
   "execution_count": 9,
   "metadata": {},
   "outputs": [
    {
     "ename": "TypeError",
     "evalue": "unhashable type: 'MaskedConstant'",
     "output_type": "error",
     "traceback": [
      "\u001b[1;31m---------------------------------------------------------------------------\u001b[0m",
      "\u001b[1;31mTypeError\u001b[0m                                 Traceback (most recent call last)",
      "\u001b[1;32m<ipython-input-9-e79ea262347e>\u001b[0m in \u001b[0;36m<module>\u001b[1;34m()\u001b[0m\n\u001b[1;32m----> 1\u001b[1;33m \u001b[0mreduced_browser\u001b[0m \u001b[1;33m=\u001b[0m \u001b[0mImageBrowser\u001b[0m\u001b[1;33m(\u001b[0m\u001b[0mimages\u001b[0m\u001b[1;33m,\u001b[0m \u001b[0mkeys\u001b[0m\u001b[1;33m=\u001b[0m\u001b[1;33m[\u001b[0m\u001b[1;34m'imagetyp'\u001b[0m\u001b[1;33m,\u001b[0m \u001b[1;34m'exposure'\u001b[0m\u001b[1;33m]\u001b[0m\u001b[1;33m)\u001b[0m\u001b[1;33m\u001b[0m\u001b[0m\n\u001b[0m\u001b[0;32m      2\u001b[0m \u001b[0mreduced_browser\u001b[0m\u001b[1;33m.\u001b[0m\u001b[0mdisplay\u001b[0m\u001b[1;33m(\u001b[0m\u001b[1;33m)\u001b[0m\u001b[1;33m\u001b[0m\u001b[0m\n",
      "\u001b[1;32mC:\\Anaconda3\\envs\\ast366\\lib\\site-packages\\reducer\\image_browser.py\u001b[0m in \u001b[0;36m__init__\u001b[1;34m(self, collection, allow_missing, *args, **kwd)\u001b[0m\n\u001b[0;32m    347\u001b[0m         \u001b[0mmissing\u001b[0m \u001b[1;33m=\u001b[0m \u001b[1;34m'No value'\u001b[0m \u001b[1;32mif\u001b[0m \u001b[0mallow_missing\u001b[0m \u001b[1;32melse\u001b[0m \u001b[1;32mNone\u001b[0m\u001b[1;33m\u001b[0m\u001b[0m\n\u001b[0;32m    348\u001b[0m         tree = msumastro.TableTree(collection.summary, self._tree_keys, 'file',\n\u001b[1;32m--> 349\u001b[1;33m                                    fill_missing=missing)\n\u001b[0m\u001b[0;32m    350\u001b[0m         \u001b[0mkwd\u001b[0m\u001b[1;33m[\u001b[0m\u001b[1;34m'orientation'\u001b[0m\u001b[1;33m]\u001b[0m \u001b[1;33m=\u001b[0m \u001b[1;34m'horizontal'\u001b[0m\u001b[1;33m\u001b[0m\u001b[0m\n\u001b[0;32m    351\u001b[0m         \u001b[0msuper\u001b[0m\u001b[1;33m(\u001b[0m\u001b[0mImageBrowser\u001b[0m\u001b[1;33m,\u001b[0m \u001b[0mself\u001b[0m\u001b[1;33m)\u001b[0m\u001b[1;33m.\u001b[0m\u001b[0m__init__\u001b[0m\u001b[1;33m(\u001b[0m\u001b[1;33m*\u001b[0m\u001b[0margs\u001b[0m\u001b[1;33m,\u001b[0m \u001b[1;33m**\u001b[0m\u001b[0mkwd\u001b[0m\u001b[1;33m)\u001b[0m\u001b[1;33m\u001b[0m\u001b[0m\n",
      "\u001b[1;32mC:\\Anaconda3\\envs\\ast366\\lib\\site-packages\\msumastro\\table_tree.py\u001b[0m in \u001b[0;36m__init__\u001b[1;34m(self, *args, **kwd)\u001b[0m\n\u001b[0;32m    105\u001b[0m         \u001b[0mself\u001b[0m\u001b[1;33m.\u001b[0m\u001b[0m_validate_group_keys\u001b[0m\u001b[1;33m(\u001b[0m\u001b[1;33m)\u001b[0m\u001b[1;33m\u001b[0m\u001b[0m\n\u001b[0;32m    106\u001b[0m         \u001b[0mself\u001b[0m\u001b[1;33m.\u001b[0m\u001b[0m_index_key\u001b[0m \u001b[1;33m=\u001b[0m \u001b[0mindex_key\u001b[0m\u001b[1;33m\u001b[0m\u001b[0m\n\u001b[1;32m--> 107\u001b[1;33m         \u001b[0mself\u001b[0m\u001b[1;33m.\u001b[0m\u001b[0m_validate_index\u001b[0m\u001b[1;33m(\u001b[0m\u001b[1;33m)\u001b[0m\u001b[1;33m\u001b[0m\u001b[0m\n\u001b[0m\u001b[0;32m    108\u001b[0m         \u001b[0mself\u001b[0m\u001b[1;33m.\u001b[0m\u001b[0m_build_tree\u001b[0m\u001b[1;33m(\u001b[0m\u001b[1;33m)\u001b[0m\u001b[1;33m\u001b[0m\u001b[0m\n\u001b[0;32m    109\u001b[0m \u001b[1;33m\u001b[0m\u001b[0m\n",
      "\u001b[1;32mC:\\Anaconda3\\envs\\ast366\\lib\\site-packages\\msumastro\\table_tree.py\u001b[0m in \u001b[0;36m_validate_index\u001b[1;34m(self)\u001b[0m\n\u001b[0;32m    125\u001b[0m         \"\"\"\n\u001b[0;32m    126\u001b[0m         \u001b[0mindex_column\u001b[0m \u001b[1;33m=\u001b[0m \u001b[0mself\u001b[0m\u001b[1;33m.\u001b[0m\u001b[0m_table\u001b[0m\u001b[1;33m[\u001b[0m\u001b[0mself\u001b[0m\u001b[1;33m.\u001b[0m\u001b[0m_index_key\u001b[0m\u001b[1;33m]\u001b[0m\u001b[1;33m\u001b[0m\u001b[0m\n\u001b[1;32m--> 127\u001b[1;33m         \u001b[1;32mif\u001b[0m \u001b[0mlen\u001b[0m\u001b[1;33m(\u001b[0m\u001b[0mset\u001b[0m\u001b[1;33m(\u001b[0m\u001b[0mindex_column\u001b[0m\u001b[1;33m)\u001b[0m\u001b[1;33m)\u001b[0m \u001b[1;33m!=\u001b[0m \u001b[0mlen\u001b[0m\u001b[1;33m(\u001b[0m\u001b[0mself\u001b[0m\u001b[1;33m.\u001b[0m\u001b[0m_table\u001b[0m\u001b[1;33m)\u001b[0m\u001b[1;33m:\u001b[0m\u001b[1;33m\u001b[0m\u001b[0m\n\u001b[0m\u001b[0;32m    128\u001b[0m             raise ValueError('The table column named {0} cannot be used as '\n\u001b[0;32m    129\u001b[0m                              \u001b[1;34m'and index because its values are '\u001b[0m\u001b[1;33m\u001b[0m\u001b[0m\n",
      "\u001b[1;31mTypeError\u001b[0m: unhashable type: 'MaskedConstant'"
     ]
    }
   ],
   "source": [
    "reduced_browser = ImageBrowser(images, keys=['imagetyp', 'exposure'])\n",
    "reduced_browser.display()"
   ]
  },
  {
   "cell_type": "code",
   "execution_count": null,
   "metadata": {},
   "outputs": [],
   "source": []
  }
 ],
 "metadata": {
  "kernelspec": {
   "display_name": "Python 3",
   "language": "python",
   "name": "python3"
  },
  "language_info": {
   "codemirror_mode": {
    "name": "ipython",
    "version": 3
   },
   "file_extension": ".py",
   "mimetype": "text/x-python",
   "name": "python",
   "nbconvert_exporter": "python",
   "pygments_lexer": "ipython3",
   "version": "3.6.5"
  }
 },
 "nbformat": 4,
 "nbformat_minor": 1
}
