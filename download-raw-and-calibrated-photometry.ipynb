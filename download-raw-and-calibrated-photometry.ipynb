{
 "cells": [
  {
   "cell_type": "markdown",
   "metadata": {},
   "source": [
    "# Both raw and transformed magnitudes are available\n",
    "\n",
    "The raw magnitudes are named `all_the_photometry.fits` and the calibrated are `calibrated_magnitudes_kelt_16_faint_13.fits`.\n",
    "\n",
    "Running the cell below should download them."
   ]
  },
  {
   "cell_type": "code",
   "execution_count": null,
   "metadata": {},
   "outputs": [],
   "source": [
    "from astropy.table import Table \n",
    "\n",
    "instrumental = Table.read('http://physics.mnstate.edu/craig/aavso2018/all_the_photometry.fits')\n",
    "instrumental.write('all_the_photometry.fits')\n",
    "\n",
    "cal_mags = Table.read('http://physics.mnstate.edu/craig/aavso2018/calibrated_magnitudes_kelt_16_faint_13.fits')\n",
    "cal_mags.write('calibrated_magnitudes_kelt_16_faint_13.fits')"
   ]
  }
 ],
 "metadata": {
  "kernelspec": {
   "display_name": "Python 3",
   "language": "python",
   "name": "python3"
  },
  "language_info": {
   "codemirror_mode": {
    "name": "ipython",
    "version": 3
   },
   "file_extension": ".py",
   "mimetype": "text/x-python",
   "name": "python",
   "nbconvert_exporter": "python",
   "pygments_lexer": "ipython3",
   "version": "3.6.4"
  }
 },
 "nbformat": 4,
 "nbformat_minor": 2
}
